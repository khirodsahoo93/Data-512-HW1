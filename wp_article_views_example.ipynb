{
 "cells": [
  {
   "cell_type": "markdown",
   "metadata": {},
   "source": [
    "## Step 1: Data Acquisition"
   ]
  },
  {
   "cell_type": "markdown",
   "metadata": {
    "tags": []
   },
   "source": [
    "# Article Page Views API Example\n",
    "This example illustrates how to access page view data using the [Wikimedia REST API](https://www.mediawiki.org/wiki/Wikimedia_REST_API). This example shows how to request monthly counts of page views for one specific article. The API documentation, [pageviews/per-article](https://wikimedia.org/api/rest_v1/#/Pageviews%20data), covers additional details that may be helpful when trying to use or understand this example.\n",
    "\n",
    "## License\n",
    "This code example was developed by Dr. David W. McDonald for use in DATA 512, a course in the UW MS Data Science degree program. This code is provided under the [Creative Commons](https://creativecommons.org) [CC-BY license](https://creativecommons.org/licenses/by/4.0/). Revision 1.1 - May 5, 2022\n",
    "\n"
   ]
  },
  {
   "cell_type": "markdown",
   "metadata": {},
   "source": [
    "### Instructions\n",
    "You will use the same article subset to generate several related data sets. \n",
    "All of the data sets are time series of monthly activity. \n",
    "For all of the data sets we are only interested in actual user pageview requests. \n",
    "The three resulting datasets should be saved as a JSON files ordered using article titles as a key for the resulting time series data. \n",
    "You should store You will use the same article subset to generate several related data sets. \n",
    "All of the data sets are time series of monthly activity. \n",
    "For all of the data sets we are only interested in actual user pageview requests. \n",
    "The three resulting datasets should be saved as a JSON files ordered using article titles as a key for the resulting time series data.\n",
    "You should store the time series data as returned from the API, \n",
    "with the exception of removing the ‘access’ field as it is misleading for mobile and cumulative files.\n",
    "You will produce three files as follows:\n",
    "Monthly mobile access - The API separates mobile access types into two separate requests, you will need to sum these to make one count for all mobile pageviews. You should store the mobile access data in a file called:\n",
    "dino_monthly_mobile_<startYYYYMM>-<endYYYYMM>.json\n",
    "Monthly desktop access - Monthly desktop page traffic is based on one single request. You should store the desktop access data in a file called:\n",
    "dino_monthly_desktop_<startYYYYMM>-<endYYYYMM>.json\n",
    "Monthly cumulative - Monthly cumulative data is the sum of all mobile, and all desktop traffic per article. You should store the monthly cumulative data in a file called:\n",
    "dino_monthly_cumulative_<startYYYYMM>-<endYYYYMM>.json\n",
    "For all of the files the <startYYYYMM> and <endYYYYMM> represent the starting and ending year and month as integer text.\n"
   ]
  },
  {
   "cell_type": "markdown",
   "metadata": {},
   "source": [
    "### Collect the articles to use"
   ]
  },
  {
   "cell_type": "code",
   "execution_count": 5,
   "metadata": {},
   "outputs": [],
   "source": [
    "import pandas as pd"
   ]
  },
  {
   "cell_type": "code",
   "execution_count": 6,
   "metadata": {},
   "outputs": [],
   "source": [
    "articles=pd.read_csv('dinosaurs.csv')"
   ]
  },
  {
   "cell_type": "code",
   "execution_count": 7,
   "metadata": {},
   "outputs": [],
   "source": [
    "articles['name'][0]='Coelosaurus antiquus'"
   ]
  },
  {
   "cell_type": "code",
   "execution_count": 8,
   "metadata": {},
   "outputs": [],
   "source": [
    "articles_list=[x for x in articles.name]"
   ]
  },
  {
   "cell_type": "code",
   "execution_count": 9,
   "metadata": {},
   "outputs": [
    {
     "data": {
      "text/html": [
       "<div>\n",
       "<style scoped>\n",
       "    .dataframe tbody tr th:only-of-type {\n",
       "        vertical-align: middle;\n",
       "    }\n",
       "\n",
       "    .dataframe tbody tr th {\n",
       "        vertical-align: top;\n",
       "    }\n",
       "\n",
       "    .dataframe thead th {\n",
       "        text-align: right;\n",
       "    }\n",
       "</style>\n",
       "<table border=\"1\" class=\"dataframe\">\n",
       "  <thead>\n",
       "    <tr style=\"text-align: right;\">\n",
       "      <th></th>\n",
       "      <th>name</th>\n",
       "      <th>url</th>\n",
       "    </tr>\n",
       "  </thead>\n",
       "  <tbody>\n",
       "    <tr>\n",
       "      <th>0</th>\n",
       "      <td>Coelosaurus antiquus</td>\n",
       "      <td>https://en.wikipedia.org/wiki/”Coelosaurus”_an...</td>\n",
       "    </tr>\n",
       "    <tr>\n",
       "      <th>1</th>\n",
       "      <td>Aachenosaurus</td>\n",
       "      <td>https://en.wikipedia.org/wiki/Aachenosaurus</td>\n",
       "    </tr>\n",
       "    <tr>\n",
       "      <th>2</th>\n",
       "      <td>Aardonyx</td>\n",
       "      <td>https://en.wikipedia.org/wiki/Aardonyx</td>\n",
       "    </tr>\n",
       "    <tr>\n",
       "      <th>3</th>\n",
       "      <td>Abdarainurus</td>\n",
       "      <td>https://en.wikipedia.org/wiki/Abdarainurus</td>\n",
       "    </tr>\n",
       "    <tr>\n",
       "      <th>4</th>\n",
       "      <td>Abditosaurus</td>\n",
       "      <td>https://en.wikipedia.org/wiki/Abditosaurus</td>\n",
       "    </tr>\n",
       "  </tbody>\n",
       "</table>\n",
       "</div>"
      ],
      "text/plain": [
       "                   name                                                url\n",
       "0  Coelosaurus antiquus  https://en.wikipedia.org/wiki/”Coelosaurus”_an...\n",
       "1         Aachenosaurus        https://en.wikipedia.org/wiki/Aachenosaurus\n",
       "2              Aardonyx             https://en.wikipedia.org/wiki/Aardonyx\n",
       "3          Abdarainurus         https://en.wikipedia.org/wiki/Abdarainurus\n",
       "4          Abditosaurus         https://en.wikipedia.org/wiki/Abditosaurus"
      ]
     },
     "execution_count": 9,
     "metadata": {},
     "output_type": "execute_result"
    }
   ],
   "source": [
    "articles.head()"
   ]
  },
  {
   "cell_type": "code",
   "execution_count": 10,
   "metadata": {
    "tags": []
   },
   "outputs": [],
   "source": [
    "# \n",
    "# These are standard python modules\n",
    "import json, time, urllib.parse\n",
    "#\n",
    "# The 'requests' module is not a standard Python module. You will need to install this with pip/pip3 if you do not already have it\n",
    "import requests\n",
    "import operator"
   ]
  },
  {
   "cell_type": "markdown",
   "metadata": {},
   "source": [
    "The example relies on some constants that help make the code a bit more readable."
   ]
  },
  {
   "cell_type": "code",
   "execution_count": 15,
   "metadata": {
    "tags": []
   },
   "outputs": [],
   "source": [
    "#########\n",
    "#\n",
    "#    CONSTANTS\n",
    "#\n",
    "\n",
    "# The REST API 'pageviews' URL - this is the common URL/endpoint for all 'pageviews' API requests\n",
    "API_REQUEST_PAGEVIEWS_ENDPOINT = 'https://wikimedia.org/api/rest_v1/metrics/pageviews/'\n",
    "\n",
    "# This is a parameterized string that specifies what kind of pageviews request we are going to make\n",
    "# In this case it will be a 'per-article' based request. The string is a format string so that we can\n",
    "# replace each parameter with an appropriate value before making the request\n",
    "API_REQUEST_PER_ARTICLE_PARAMS = 'per-article/{project}/{access}/{agent}/{article}/{granularity}/{start}/{end}'\n",
    "\n",
    "# The Pageviews API asks that we not exceed 100 requests per second, we add a small delay to each request\n",
    "API_LATENCY_ASSUMED = 0.002       # Assuming roughly 2ms latency on the API and network\n",
    "API_THROTTLE_WAIT = (1.0/100.0)-API_LATENCY_ASSUMED\n",
    "\n",
    "# When making a request to the Wikimedia API they ask that you include a \"unique ID\" that will allow them to\n",
    "# contact you if something happens - such as - your code exceeding request limits - or some other error happens\n",
    "REQUEST_HEADERS = {\n",
    "    'User-Agent': '<ksahoo@uw.edu>, University of Washington, MSDS DATA 512 - AUTUMN 2022',\n",
    "}\n",
    "\n",
    "# This is just a list of English Wikipedia article titles that we can use for example requests\n",
    "ARTICLE_TITLES = [ 'Bison', 'Northern flicker', 'Red squirrel', 'Chinook salmon', 'Horseshoe bat' ]\n",
    "\n",
    "# This template is used to map parameter values into the API_REQUST_PER_ARTICLE_PARAMS portion of an API request. The dictionary has a\n",
    "# field/key for each of the required parameters. In the example, below, we only vary the article name, so the majority of the fields\n",
    "# can stay constant for each request. Of course, these values *could* be changed if necessary.\n",
    "ARTICLE_PAGEVIEWS_PARAMS_DESKTOP = {\n",
    "    \"project\":     \"en.wikipedia.org\",\n",
    "    \"access\":      \"desktop\",      # this should be changed for the different access types\n",
    "    \"agent\":       \"user\",\n",
    "    \"article\":     \"\",             # this value will be set/changed before each request\n",
    "    \"granularity\": \"monthly\",\n",
    "    \"start\":       \"2015070100\",\n",
    "    \"end\":         \"2022093000\"    # this is likely the wrong end date\n",
    "}\n",
    "\n",
    "ARTICLE_PAGEVIEWS_PARAMS_MOBILE_WEB = {\n",
    "    \"project\":     \"en.wikipedia.org\",\n",
    "    \"access\":      \"mobile-web\",      # this should be changed for the different access types\n",
    "    \"agent\":       \"user\",\n",
    "    \"article\":     \"\",             # this value will be set/changed before each request\n",
    "    \"granularity\": \"monthly\",\n",
    "    \"start\":       \"2015070100\",\n",
    "    \"end\":         \"2022093000\"    # this is likely the wrong end date\n",
    "}\n",
    "ARTICLE_PAGEVIEWS_PARAMS_MOBILE_APP = {\n",
    "    \"project\":     \"en.wikipedia.org\",\n",
    "    \"access\":      \"mobile-app\",      # this should be changed for the different access types\n",
    "    \"agent\":       \"user\",\n",
    "    \"article\":     \"\",             # this value will be set/changed before each request\n",
    "    \"granularity\": \"monthly\",\n",
    "    \"start\":       \"2015070100\",\n",
    "    \"end\":         \"2022093000\"    # this is likely the wrong end date\n",
    "}\n",
    "\n",
    "ARTICLE_PAGEVIEWS_PARAMS_TEMPLATE = {\n",
    "    \"project\":     \"en.wikipedia.org\",\n",
    "    \"access\":      \"desktop\",      # this should be changed for the different access types\n",
    "    \"agent\":       \"user\",\n",
    "    \"article\":     \"\",             # this value will be set/changed before each request\n",
    "    \"granularity\": \"monthly\",\n",
    "    \"start\":       \"2015070100\",\n",
    "    \"end\":         \"2022093000\"    # this is likely the wrong end date\n",
    "}\n",
    "\n",
    "params=[ARTICLE_PAGEVIEWS_PARAMS_DESKTOP,ARTICLE_PAGEVIEWS_PARAMS_MOBILE_WEB,ARTICLE_PAGEVIEWS_PARAMS_MOBILE_APP]"
   ]
  },
  {
   "cell_type": "markdown",
   "metadata": {},
   "source": [
    "The API request will be made using one procedure. The idea is to make this reusable. The procedure is parameterized, but relies on the constants above for the important parameters. The underlying assumption is that this will be used to request data for a set of article pages. Therefore the parameter most likely to change is the article_title."
   ]
  },
  {
   "cell_type": "code",
   "execution_count": 16,
   "metadata": {
    "tags": []
   },
   "outputs": [],
   "source": [
    "#########\n",
    "#\n",
    "#    PROCEDURES/FUNCTIONS\n",
    "#\n",
    "\n",
    "def request_pageviews_per_article(article_title = None, \n",
    "                                  endpoint_url = API_REQUEST_PAGEVIEWS_ENDPOINT, \n",
    "                                  endpoint_params = API_REQUEST_PER_ARTICLE_PARAMS, \n",
    "                                  request_template = ARTICLE_PAGEVIEWS_PARAMS_TEMPLATE,\n",
    "                                  headers = REQUEST_HEADERS):\n",
    "    # Make sure we have an article title\n",
    "    if not article_title: return None\n",
    "    \n",
    "    # Titles are supposed to have spaces replaced with \"_\" and be URL encoded\n",
    "    article_title_encoded = urllib.parse.quote(article_title.replace('\"','').replace(' ','_'))\n",
    "    request_template['article'] = article_title_encoded\n",
    "    # now, create a request URL by combining the endpoint_url with the parameters for the request\n",
    "    request_url = endpoint_url+endpoint_params.format(**request_template)\n",
    "    \n",
    "    # make the request\n",
    "    try:\n",
    "        # we'll wait first, to make sure we don't exceed the limit in the situation where an exception\n",
    "        # occurs during the request processing - throttling is always a good practice with a free\n",
    "        # data source like Wikipedia - or other community sources\n",
    "        if API_THROTTLE_WAIT > 0.0:\n",
    "            time.sleep(API_THROTTLE_WAIT)\n",
    "        response = requests.get(request_url, headers=headers)\n",
    "        json_response = response.json()\n",
    "    except Exception as e:\n",
    "        print(e)\n",
    "        json_response = None\n",
    "    return json_response\n"
   ]
  },
  {
   "cell_type": "code",
   "execution_count": 17,
   "metadata": {},
   "outputs": [
    {
     "data": {
      "text/plain": [
       "'Aachenosaurus'"
      ]
     },
     "execution_count": 17,
     "metadata": {},
     "output_type": "execute_result"
    }
   ],
   "source": [
    "articles.name[1]"
   ]
  },
  {
   "cell_type": "code",
   "execution_count": 18,
   "metadata": {},
   "outputs": [
    {
     "name": "stdout",
     "output_type": "stream",
     "text": [
      "Getting pageview data for:  Coelosaurus antiquus\n"
     ]
    }
   ],
   "source": [
    "print(\"Getting pageview data for: \",articles.name[0])\n",
    "views_test = request_pageviews_per_article('joe_biden',request_template=ARTICLE_PAGEVIEWS_PARAMS_MOBILE_WEB)"
   ]
  },
  {
   "cell_type": "code",
   "execution_count": 249,
   "metadata": {},
   "outputs": [],
   "source": [
    "# views"
   ]
  },
  {
   "cell_type": "code",
   "execution_count": 232,
   "metadata": {},
   "outputs": [],
   "source": [
    "# #print(json.dumps(views,indent=4))\n",
    "# print(\"Have %d months of pageview data\"%(len(views['items'])))\n",
    "# for month in views['items']:\n",
    "#     print(json.dumps(month,indent=4))"
   ]
  },
  {
   "cell_type": "code",
   "execution_count": 19,
   "metadata": {},
   "outputs": [
    {
     "name": "stdout",
     "output_type": "stream",
     "text": [
      " checking for param {'project': 'en.wikipedia.org', 'access': 'desktop', 'agent': 'user', 'article': '', 'granularity': 'monthly', 'start': '2015070100', 'end': '2022093000'}\n",
      " checking for param {'project': 'en.wikipedia.org', 'access': 'mobile-web', 'agent': 'user', 'article': 'joe_biden', 'granularity': 'monthly', 'start': '2015070100', 'end': '2022093000'}\n",
      " checking for param {'project': 'en.wikipedia.org', 'access': 'mobile-app', 'agent': 'user', 'article': '', 'granularity': 'monthly', 'start': '2015070100', 'end': '2022093000'}\n"
     ]
    }
   ],
   "source": [
    "data_mobile_app={}\n",
    "data_desktop={}\n",
    "data_mobile_web={}\n",
    "for param in params:\n",
    "    print(' checking for param {}'.format(param))\n",
    "    data={'items':[]}\n",
    "    for article in articles_list:\n",
    "       #  default=[{'project': 'en.wikipedia',\n",
    "       # 'article': article,\n",
    "       # 'granularity': 'monthly',\n",
    "       # 'timestamp': 'NA',\n",
    "       # 'access': 'mobile-web',\n",
    "       # 'agent': 'user',\n",
    "       # 'views': 0}]\n",
    "        views = request_pageviews_per_article(article,request_template=param)\n",
    "        # try:\n",
    "        # print(views)\n",
    "        data['items']=data['items']+views['items']\n",
    "        # except KeyError:\n",
    "            # data=data+default\n",
    "        # Serializing json\n",
    "    data_dict=data\n",
    "    if param['access']=='mobile-web':\n",
    "        with open(\"mobile_web.json\", \"w\") as outfile:\n",
    "            json.dump(data_dict, outfile)\n",
    "            json_mobile = json.dumps(data_dict, indent=4)\n",
    "    if param['access']=='desktop':\n",
    "        with open(\"desktop.json\", \"w\") as outfile:\n",
    "            json.dump(data_dict, outfile)\n",
    "            json_desktop = json.dumps(data_dict, indent=4)\n",
    "    else:\n",
    "        with open(\"mobile_app.json\", \"w\") as outfile:\n",
    "            json.dump(data_dict, outfile)\n",
    "            json_desktop = json.dumps(data_dict, indent=4)\n",
    "       "
   ]
  },
  {
   "cell_type": "markdown",
   "metadata": {},
   "source": [
    "Above output should show dictionaries with views per month"
   ]
  },
  {
   "cell_type": "markdown",
   "metadata": {},
   "source": [
    "### Convert json to csv"
   ]
  },
  {
   "cell_type": "code",
   "execution_count": 23,
   "metadata": {},
   "outputs": [],
   "source": [
    "# function to convert json to csv\n",
    "\n",
    "import json\n",
    "import csv\n",
    "def json_to_csv(input_file,output_file):\n",
    "    \n",
    "    # Opening JSON file and loading the data\n",
    "    # into the variable data\n",
    "    with open(input_file) as json_file:\n",
    "        data = json.load(json_file)\n",
    "\n",
    "    dino_data = data['items']\n",
    "    print(dino_data[2])\n",
    "    # now we will open a file for writing\n",
    "    data_file = open(output_file, 'w')\n",
    "\n",
    "    # create the csv writer object\n",
    "    csv_writer = csv.writer(data_file)\n",
    "\n",
    "    # Counter variable used for writing\n",
    "    # headers to the CSV file\n",
    "    count = 0\n",
    "\n",
    "    for dino in dino_data:\n",
    "        if count == 0:\n",
    "            # Writing headers of CSV file\n",
    "            header = dino.keys()\n",
    "            csv_writer.writerow(header)\n",
    "            count += 1\n",
    "        # Writing data of CSV file\n",
    "        csv_writer.writerow(dino.values())\n",
    "\n",
    "    data_file.close()"
   ]
  },
  {
   "cell_type": "code",
   "execution_count": 24,
   "metadata": {},
   "outputs": [
    {
     "name": "stdout",
     "output_type": "stream",
     "text": [
      "{'project': 'en.wikipedia', 'article': 'Coelosaurus_antiquus', 'granularity': 'monthly', 'timestamp': '2015090100', 'access': 'mobile-web', 'agent': 'user', 'views': 9}\n",
      "{'project': 'en.wikipedia', 'article': 'Coelosaurus_antiquus', 'granularity': 'monthly', 'timestamp': '2015090100', 'access': 'mobile-app', 'agent': 'user', 'views': 2}\n",
      "{'project': 'en.wikipedia', 'article': 'Coelosaurus_antiquus', 'granularity': 'monthly', 'timestamp': '2015090100', 'access': 'desktop', 'agent': 'user', 'views': 80}\n"
     ]
    }
   ],
   "source": [
    "json_to_csv('mobile_web.json','mobile_web.csv')\n",
    "json_to_csv('mobile_app.json','mobile_app.csv')\n",
    "json_to_csv('desktop.json','desktop.csv')"
   ]
  },
  {
   "cell_type": "code",
   "execution_count": 27,
   "metadata": {},
   "outputs": [],
   "source": [
    "mobile_web=pd.read_csv('mobile_web.csv')\n",
    "mobile_app=pd.read_csv('mobile_app.csv')\n",
    "desktop=pd.read_csv('desktop.csv')"
   ]
  },
  {
   "cell_type": "code",
   "execution_count": 44,
   "metadata": {},
   "outputs": [
    {
     "data": {
      "text/html": [
       "<div>\n",
       "<style scoped>\n",
       "    .dataframe tbody tr th:only-of-type {\n",
       "        vertical-align: middle;\n",
       "    }\n",
       "\n",
       "    .dataframe tbody tr th {\n",
       "        vertical-align: top;\n",
       "    }\n",
       "\n",
       "    .dataframe thead th {\n",
       "        text-align: right;\n",
       "    }\n",
       "</style>\n",
       "<table border=\"1\" class=\"dataframe\">\n",
       "  <thead>\n",
       "    <tr style=\"text-align: right;\">\n",
       "      <th></th>\n",
       "      <th>project</th>\n",
       "      <th>article</th>\n",
       "      <th>granularity</th>\n",
       "      <th>timestamp</th>\n",
       "      <th>access</th>\n",
       "      <th>agent</th>\n",
       "      <th>views</th>\n",
       "    </tr>\n",
       "  </thead>\n",
       "  <tbody>\n",
       "    <tr>\n",
       "      <th>0</th>\n",
       "      <td>en.wikipedia</td>\n",
       "      <td>Coelosaurus_antiquus</td>\n",
       "      <td>monthly</td>\n",
       "      <td>2015070100</td>\n",
       "      <td>mobile-web</td>\n",
       "      <td>user</td>\n",
       "      <td>16</td>\n",
       "    </tr>\n",
       "    <tr>\n",
       "      <th>1</th>\n",
       "      <td>en.wikipedia</td>\n",
       "      <td>Coelosaurus_antiquus</td>\n",
       "      <td>monthly</td>\n",
       "      <td>2015080100</td>\n",
       "      <td>mobile-web</td>\n",
       "      <td>user</td>\n",
       "      <td>12</td>\n",
       "    </tr>\n",
       "    <tr>\n",
       "      <th>2</th>\n",
       "      <td>en.wikipedia</td>\n",
       "      <td>Coelosaurus_antiquus</td>\n",
       "      <td>monthly</td>\n",
       "      <td>2015090100</td>\n",
       "      <td>mobile-web</td>\n",
       "      <td>user</td>\n",
       "      <td>9</td>\n",
       "    </tr>\n",
       "    <tr>\n",
       "      <th>3</th>\n",
       "      <td>en.wikipedia</td>\n",
       "      <td>Coelosaurus_antiquus</td>\n",
       "      <td>monthly</td>\n",
       "      <td>2015100100</td>\n",
       "      <td>mobile-web</td>\n",
       "      <td>user</td>\n",
       "      <td>21</td>\n",
       "    </tr>\n",
       "    <tr>\n",
       "      <th>4</th>\n",
       "      <td>en.wikipedia</td>\n",
       "      <td>Coelosaurus_antiquus</td>\n",
       "      <td>monthly</td>\n",
       "      <td>2015110100</td>\n",
       "      <td>mobile-web</td>\n",
       "      <td>user</td>\n",
       "      <td>13</td>\n",
       "    </tr>\n",
       "  </tbody>\n",
       "</table>\n",
       "</div>"
      ],
      "text/plain": [
       "        project               article granularity   timestamp      access  \\\n",
       "0  en.wikipedia  Coelosaurus_antiquus     monthly  2015070100  mobile-web   \n",
       "1  en.wikipedia  Coelosaurus_antiquus     monthly  2015080100  mobile-web   \n",
       "2  en.wikipedia  Coelosaurus_antiquus     monthly  2015090100  mobile-web   \n",
       "3  en.wikipedia  Coelosaurus_antiquus     monthly  2015100100  mobile-web   \n",
       "4  en.wikipedia  Coelosaurus_antiquus     monthly  2015110100  mobile-web   \n",
       "\n",
       "  agent  views  \n",
       "0  user     16  \n",
       "1  user     12  \n",
       "2  user      9  \n",
       "3  user     21  \n",
       "4  user     13  "
      ]
     },
     "execution_count": 44,
     "metadata": {},
     "output_type": "execute_result"
    }
   ],
   "source": [
    "mobile_web.head()"
   ]
  },
  {
   "cell_type": "code",
   "execution_count": 29,
   "metadata": {},
   "outputs": [
    {
     "data": {
      "text/html": [
       "<div>\n",
       "<style scoped>\n",
       "    .dataframe tbody tr th:only-of-type {\n",
       "        vertical-align: middle;\n",
       "    }\n",
       "\n",
       "    .dataframe tbody tr th {\n",
       "        vertical-align: top;\n",
       "    }\n",
       "\n",
       "    .dataframe thead th {\n",
       "        text-align: right;\n",
       "    }\n",
       "</style>\n",
       "<table border=\"1\" class=\"dataframe\">\n",
       "  <thead>\n",
       "    <tr style=\"text-align: right;\">\n",
       "      <th></th>\n",
       "      <th>project</th>\n",
       "      <th>article</th>\n",
       "      <th>granularity</th>\n",
       "      <th>timestamp</th>\n",
       "      <th>access</th>\n",
       "      <th>agent</th>\n",
       "      <th>views</th>\n",
       "    </tr>\n",
       "  </thead>\n",
       "  <tbody>\n",
       "    <tr>\n",
       "      <th>0</th>\n",
       "      <td>en.wikipedia</td>\n",
       "      <td>Coelosaurus_antiquus</td>\n",
       "      <td>monthly</td>\n",
       "      <td>2015070100</td>\n",
       "      <td>mobile-app</td>\n",
       "      <td>user</td>\n",
       "      <td>4</td>\n",
       "    </tr>\n",
       "    <tr>\n",
       "      <th>1</th>\n",
       "      <td>en.wikipedia</td>\n",
       "      <td>Coelosaurus_antiquus</td>\n",
       "      <td>monthly</td>\n",
       "      <td>2015080100</td>\n",
       "      <td>mobile-app</td>\n",
       "      <td>user</td>\n",
       "      <td>2</td>\n",
       "    </tr>\n",
       "    <tr>\n",
       "      <th>2</th>\n",
       "      <td>en.wikipedia</td>\n",
       "      <td>Coelosaurus_antiquus</td>\n",
       "      <td>monthly</td>\n",
       "      <td>2015090100</td>\n",
       "      <td>mobile-app</td>\n",
       "      <td>user</td>\n",
       "      <td>2</td>\n",
       "    </tr>\n",
       "    <tr>\n",
       "      <th>3</th>\n",
       "      <td>en.wikipedia</td>\n",
       "      <td>Coelosaurus_antiquus</td>\n",
       "      <td>monthly</td>\n",
       "      <td>2015100100</td>\n",
       "      <td>mobile-app</td>\n",
       "      <td>user</td>\n",
       "      <td>0</td>\n",
       "    </tr>\n",
       "    <tr>\n",
       "      <th>4</th>\n",
       "      <td>en.wikipedia</td>\n",
       "      <td>Coelosaurus_antiquus</td>\n",
       "      <td>monthly</td>\n",
       "      <td>2015110100</td>\n",
       "      <td>mobile-app</td>\n",
       "      <td>user</td>\n",
       "      <td>0</td>\n",
       "    </tr>\n",
       "  </tbody>\n",
       "</table>\n",
       "</div>"
      ],
      "text/plain": [
       "        project               article granularity   timestamp      access  \\\n",
       "0  en.wikipedia  Coelosaurus_antiquus     monthly  2015070100  mobile-app   \n",
       "1  en.wikipedia  Coelosaurus_antiquus     monthly  2015080100  mobile-app   \n",
       "2  en.wikipedia  Coelosaurus_antiquus     monthly  2015090100  mobile-app   \n",
       "3  en.wikipedia  Coelosaurus_antiquus     monthly  2015100100  mobile-app   \n",
       "4  en.wikipedia  Coelosaurus_antiquus     monthly  2015110100  mobile-app   \n",
       "\n",
       "  agent  views  \n",
       "0  user      4  \n",
       "1  user      2  \n",
       "2  user      2  \n",
       "3  user      0  \n",
       "4  user      0  "
      ]
     },
     "execution_count": 29,
     "metadata": {},
     "output_type": "execute_result"
    }
   ],
   "source": [
    "mobile_app.head()"
   ]
  },
  {
   "cell_type": "code",
   "execution_count": 30,
   "metadata": {},
   "outputs": [
    {
     "data": {
      "text/html": [
       "<div>\n",
       "<style scoped>\n",
       "    .dataframe tbody tr th:only-of-type {\n",
       "        vertical-align: middle;\n",
       "    }\n",
       "\n",
       "    .dataframe tbody tr th {\n",
       "        vertical-align: top;\n",
       "    }\n",
       "\n",
       "    .dataframe thead th {\n",
       "        text-align: right;\n",
       "    }\n",
       "</style>\n",
       "<table border=\"1\" class=\"dataframe\">\n",
       "  <thead>\n",
       "    <tr style=\"text-align: right;\">\n",
       "      <th></th>\n",
       "      <th>project</th>\n",
       "      <th>article</th>\n",
       "      <th>granularity</th>\n",
       "      <th>timestamp</th>\n",
       "      <th>access</th>\n",
       "      <th>agent</th>\n",
       "      <th>views</th>\n",
       "    </tr>\n",
       "  </thead>\n",
       "  <tbody>\n",
       "    <tr>\n",
       "      <th>0</th>\n",
       "      <td>en.wikipedia</td>\n",
       "      <td>Coelosaurus_antiquus</td>\n",
       "      <td>monthly</td>\n",
       "      <td>2015070100</td>\n",
       "      <td>desktop</td>\n",
       "      <td>user</td>\n",
       "      <td>79</td>\n",
       "    </tr>\n",
       "    <tr>\n",
       "      <th>1</th>\n",
       "      <td>en.wikipedia</td>\n",
       "      <td>Coelosaurus_antiquus</td>\n",
       "      <td>monthly</td>\n",
       "      <td>2015080100</td>\n",
       "      <td>desktop</td>\n",
       "      <td>user</td>\n",
       "      <td>62</td>\n",
       "    </tr>\n",
       "    <tr>\n",
       "      <th>2</th>\n",
       "      <td>en.wikipedia</td>\n",
       "      <td>Coelosaurus_antiquus</td>\n",
       "      <td>monthly</td>\n",
       "      <td>2015090100</td>\n",
       "      <td>desktop</td>\n",
       "      <td>user</td>\n",
       "      <td>80</td>\n",
       "    </tr>\n",
       "    <tr>\n",
       "      <th>3</th>\n",
       "      <td>en.wikipedia</td>\n",
       "      <td>Coelosaurus_antiquus</td>\n",
       "      <td>monthly</td>\n",
       "      <td>2015100100</td>\n",
       "      <td>desktop</td>\n",
       "      <td>user</td>\n",
       "      <td>66</td>\n",
       "    </tr>\n",
       "    <tr>\n",
       "      <th>4</th>\n",
       "      <td>en.wikipedia</td>\n",
       "      <td>Coelosaurus_antiquus</td>\n",
       "      <td>monthly</td>\n",
       "      <td>2015110100</td>\n",
       "      <td>desktop</td>\n",
       "      <td>user</td>\n",
       "      <td>72</td>\n",
       "    </tr>\n",
       "  </tbody>\n",
       "</table>\n",
       "</div>"
      ],
      "text/plain": [
       "        project               article granularity   timestamp   access agent  \\\n",
       "0  en.wikipedia  Coelosaurus_antiquus     monthly  2015070100  desktop  user   \n",
       "1  en.wikipedia  Coelosaurus_antiquus     monthly  2015080100  desktop  user   \n",
       "2  en.wikipedia  Coelosaurus_antiquus     monthly  2015090100  desktop  user   \n",
       "3  en.wikipedia  Coelosaurus_antiquus     monthly  2015100100  desktop  user   \n",
       "4  en.wikipedia  Coelosaurus_antiquus     monthly  2015110100  desktop  user   \n",
       "\n",
       "   views  \n",
       "0     79  \n",
       "1     62  \n",
       "2     80  \n",
       "3     66  \n",
       "4     72  "
      ]
     },
     "execution_count": 30,
     "metadata": {},
     "output_type": "execute_result"
    }
   ],
   "source": [
    "desktop.head()"
   ]
  },
  {
   "cell_type": "markdown",
   "metadata": {},
   "source": [
    "### combine mobile app and mobile web"
   ]
  },
  {
   "cell_type": "code",
   "execution_count": 38,
   "metadata": {},
   "outputs": [],
   "source": [
    "mobile=pd.concat([mobile_web,mobile_app],axis=0)"
   ]
  },
  {
   "cell_type": "code",
   "execution_count": 37,
   "metadata": {},
   "outputs": [
    {
     "data": {
      "text/html": [
       "<div>\n",
       "<style scoped>\n",
       "    .dataframe tbody tr th:only-of-type {\n",
       "        vertical-align: middle;\n",
       "    }\n",
       "\n",
       "    .dataframe tbody tr th {\n",
       "        vertical-align: top;\n",
       "    }\n",
       "\n",
       "    .dataframe thead th {\n",
       "        text-align: right;\n",
       "    }\n",
       "</style>\n",
       "<table border=\"1\" class=\"dataframe\">\n",
       "  <thead>\n",
       "    <tr style=\"text-align: right;\">\n",
       "      <th></th>\n",
       "      <th>project</th>\n",
       "      <th>article</th>\n",
       "      <th>granularity</th>\n",
       "      <th>timestamp</th>\n",
       "      <th>access</th>\n",
       "      <th>agent</th>\n",
       "      <th>views</th>\n",
       "    </tr>\n",
       "  </thead>\n",
       "  <tbody>\n",
       "    <tr>\n",
       "      <th>0</th>\n",
       "      <td>en.wikipedia</td>\n",
       "      <td>Coelosaurus_antiquus</td>\n",
       "      <td>monthly</td>\n",
       "      <td>2015070100</td>\n",
       "      <td>mobile-web</td>\n",
       "      <td>user</td>\n",
       "      <td>16</td>\n",
       "    </tr>\n",
       "    <tr>\n",
       "      <th>1</th>\n",
       "      <td>en.wikipedia</td>\n",
       "      <td>Coelosaurus_antiquus</td>\n",
       "      <td>monthly</td>\n",
       "      <td>2015080100</td>\n",
       "      <td>mobile-web</td>\n",
       "      <td>user</td>\n",
       "      <td>12</td>\n",
       "    </tr>\n",
       "    <tr>\n",
       "      <th>2</th>\n",
       "      <td>en.wikipedia</td>\n",
       "      <td>Coelosaurus_antiquus</td>\n",
       "      <td>monthly</td>\n",
       "      <td>2015090100</td>\n",
       "      <td>mobile-web</td>\n",
       "      <td>user</td>\n",
       "      <td>9</td>\n",
       "    </tr>\n",
       "    <tr>\n",
       "      <th>3</th>\n",
       "      <td>en.wikipedia</td>\n",
       "      <td>Coelosaurus_antiquus</td>\n",
       "      <td>monthly</td>\n",
       "      <td>2015100100</td>\n",
       "      <td>mobile-web</td>\n",
       "      <td>user</td>\n",
       "      <td>21</td>\n",
       "    </tr>\n",
       "    <tr>\n",
       "      <th>4</th>\n",
       "      <td>en.wikipedia</td>\n",
       "      <td>Coelosaurus_antiquus</td>\n",
       "      <td>monthly</td>\n",
       "      <td>2015110100</td>\n",
       "      <td>mobile-web</td>\n",
       "      <td>user</td>\n",
       "      <td>13</td>\n",
       "    </tr>\n",
       "  </tbody>\n",
       "</table>\n",
       "</div>"
      ],
      "text/plain": [
       "        project               article granularity   timestamp      access  \\\n",
       "0  en.wikipedia  Coelosaurus_antiquus     monthly  2015070100  mobile-web   \n",
       "1  en.wikipedia  Coelosaurus_antiquus     monthly  2015080100  mobile-web   \n",
       "2  en.wikipedia  Coelosaurus_antiquus     monthly  2015090100  mobile-web   \n",
       "3  en.wikipedia  Coelosaurus_antiquus     monthly  2015100100  mobile-web   \n",
       "4  en.wikipedia  Coelosaurus_antiquus     monthly  2015110100  mobile-web   \n",
       "\n",
       "  agent  views  \n",
       "0  user     16  \n",
       "1  user     12  \n",
       "2  user      9  \n",
       "3  user     21  \n",
       "4  user     13  "
      ]
     },
     "execution_count": 39,
     "metadata": {},
     "output_type": "execute_result"
    }
   ],
   "source": [
    "mobile.head()"
   ]
  },
  {
   "cell_type": "code",
   "execution_count": 42,
   "metadata": {},
   "outputs": [],
   "source": [
    "mobile_grp=mobile.groupby(by=['project','article','granularity','timestamp','agent']).agg({'views':'sum'}).reset_index()\n",
    "mobile_grp.columns=['project','article','granularity','timestamp','agent','views']\n"
   ]
  },
  {
   "cell_type": "code",
   "execution_count": 43,
   "metadata": {},
   "outputs": [
    {
     "data": {
      "text/html": [
       "<div>\n",
       "<style scoped>\n",
       "    .dataframe tbody tr th:only-of-type {\n",
       "        vertical-align: middle;\n",
       "    }\n",
       "\n",
       "    .dataframe tbody tr th {\n",
       "        vertical-align: top;\n",
       "    }\n",
       "\n",
       "    .dataframe thead th {\n",
       "        text-align: right;\n",
       "    }\n",
       "</style>\n",
       "<table border=\"1\" class=\"dataframe\">\n",
       "  <thead>\n",
       "    <tr style=\"text-align: right;\">\n",
       "      <th></th>\n",
       "      <th>project</th>\n",
       "      <th>article</th>\n",
       "      <th>granularity</th>\n",
       "      <th>timestamp</th>\n",
       "      <th>agent</th>\n",
       "      <th>views</th>\n",
       "    </tr>\n",
       "  </thead>\n",
       "  <tbody>\n",
       "    <tr>\n",
       "      <th>0</th>\n",
       "      <td>en.wikipedia</td>\n",
       "      <td>Aachenosaurus</td>\n",
       "      <td>monthly</td>\n",
       "      <td>2015070100</td>\n",
       "      <td>user</td>\n",
       "      <td>443</td>\n",
       "    </tr>\n",
       "    <tr>\n",
       "      <th>1</th>\n",
       "      <td>en.wikipedia</td>\n",
       "      <td>Aachenosaurus</td>\n",
       "      <td>monthly</td>\n",
       "      <td>2015080100</td>\n",
       "      <td>user</td>\n",
       "      <td>412</td>\n",
       "    </tr>\n",
       "    <tr>\n",
       "      <th>2</th>\n",
       "      <td>en.wikipedia</td>\n",
       "      <td>Aachenosaurus</td>\n",
       "      <td>monthly</td>\n",
       "      <td>2015090100</td>\n",
       "      <td>user</td>\n",
       "      <td>283</td>\n",
       "    </tr>\n",
       "    <tr>\n",
       "      <th>3</th>\n",
       "      <td>en.wikipedia</td>\n",
       "      <td>Aachenosaurus</td>\n",
       "      <td>monthly</td>\n",
       "      <td>2015100100</td>\n",
       "      <td>user</td>\n",
       "      <td>794</td>\n",
       "    </tr>\n",
       "    <tr>\n",
       "      <th>4</th>\n",
       "      <td>en.wikipedia</td>\n",
       "      <td>Aachenosaurus</td>\n",
       "      <td>monthly</td>\n",
       "      <td>2015110100</td>\n",
       "      <td>user</td>\n",
       "      <td>311</td>\n",
       "    </tr>\n",
       "  </tbody>\n",
       "</table>\n",
       "</div>"
      ],
      "text/plain": [
       "        project        article granularity   timestamp agent  views\n",
       "0  en.wikipedia  Aachenosaurus     monthly  2015070100  user    443\n",
       "1  en.wikipedia  Aachenosaurus     monthly  2015080100  user    412\n",
       "2  en.wikipedia  Aachenosaurus     monthly  2015090100  user    283\n",
       "3  en.wikipedia  Aachenosaurus     monthly  2015100100  user    794\n",
       "4  en.wikipedia  Aachenosaurus     monthly  2015110100  user    311"
      ]
     },
     "execution_count": 43,
     "metadata": {},
     "output_type": "execute_result"
    }
   ],
   "source": [
    "mobile_grp.head()"
   ]
  },
  {
   "cell_type": "code",
   "execution_count": 46,
   "metadata": {},
   "outputs": [],
   "source": [
    "desktop_grp=desktop.loc[:,['project','article','granularity','timestamp','agent','views']]"
   ]
  },
  {
   "cell_type": "code",
   "execution_count": 47,
   "metadata": {},
   "outputs": [
    {
     "data": {
      "text/html": [
       "<div>\n",
       "<style scoped>\n",
       "    .dataframe tbody tr th:only-of-type {\n",
       "        vertical-align: middle;\n",
       "    }\n",
       "\n",
       "    .dataframe tbody tr th {\n",
       "        vertical-align: top;\n",
       "    }\n",
       "\n",
       "    .dataframe thead th {\n",
       "        text-align: right;\n",
       "    }\n",
       "</style>\n",
       "<table border=\"1\" class=\"dataframe\">\n",
       "  <thead>\n",
       "    <tr style=\"text-align: right;\">\n",
       "      <th></th>\n",
       "      <th>project</th>\n",
       "      <th>article</th>\n",
       "      <th>granularity</th>\n",
       "      <th>timestamp</th>\n",
       "      <th>agent</th>\n",
       "      <th>views</th>\n",
       "    </tr>\n",
       "  </thead>\n",
       "  <tbody>\n",
       "    <tr>\n",
       "      <th>0</th>\n",
       "      <td>en.wikipedia</td>\n",
       "      <td>Coelosaurus_antiquus</td>\n",
       "      <td>monthly</td>\n",
       "      <td>2015070100</td>\n",
       "      <td>user</td>\n",
       "      <td>79</td>\n",
       "    </tr>\n",
       "    <tr>\n",
       "      <th>1</th>\n",
       "      <td>en.wikipedia</td>\n",
       "      <td>Coelosaurus_antiquus</td>\n",
       "      <td>monthly</td>\n",
       "      <td>2015080100</td>\n",
       "      <td>user</td>\n",
       "      <td>62</td>\n",
       "    </tr>\n",
       "    <tr>\n",
       "      <th>2</th>\n",
       "      <td>en.wikipedia</td>\n",
       "      <td>Coelosaurus_antiquus</td>\n",
       "      <td>monthly</td>\n",
       "      <td>2015090100</td>\n",
       "      <td>user</td>\n",
       "      <td>80</td>\n",
       "    </tr>\n",
       "    <tr>\n",
       "      <th>3</th>\n",
       "      <td>en.wikipedia</td>\n",
       "      <td>Coelosaurus_antiquus</td>\n",
       "      <td>monthly</td>\n",
       "      <td>2015100100</td>\n",
       "      <td>user</td>\n",
       "      <td>66</td>\n",
       "    </tr>\n",
       "    <tr>\n",
       "      <th>4</th>\n",
       "      <td>en.wikipedia</td>\n",
       "      <td>Coelosaurus_antiquus</td>\n",
       "      <td>monthly</td>\n",
       "      <td>2015110100</td>\n",
       "      <td>user</td>\n",
       "      <td>72</td>\n",
       "    </tr>\n",
       "  </tbody>\n",
       "</table>\n",
       "</div>"
      ],
      "text/plain": [
       "        project               article granularity   timestamp agent  views\n",
       "0  en.wikipedia  Coelosaurus_antiquus     monthly  2015070100  user     79\n",
       "1  en.wikipedia  Coelosaurus_antiquus     monthly  2015080100  user     62\n",
       "2  en.wikipedia  Coelosaurus_antiquus     monthly  2015090100  user     80\n",
       "3  en.wikipedia  Coelosaurus_antiquus     monthly  2015100100  user     66\n",
       "4  en.wikipedia  Coelosaurus_antiquus     monthly  2015110100  user     72"
      ]
     },
     "execution_count": 47,
     "metadata": {},
     "output_type": "execute_result"
    }
   ],
   "source": [
    "desktop_grp.head()"
   ]
  },
  {
   "cell_type": "code",
   "execution_count": 48,
   "metadata": {},
   "outputs": [],
   "source": [
    "all_access=mobile=pd.concat([mobile_grp,desktop_grp],axis=0)\n",
    "all_access_grp=all_access.groupby(by=['project','article','granularity','timestamp','agent']).agg({'views':'sum'}).reset_index()\n",
    "all_access_grp.columns=['project','article','granularity','timestamp','agent','views']"
   ]
  },
  {
   "cell_type": "code",
   "execution_count": 49,
   "metadata": {},
   "outputs": [
    {
     "data": {
      "text/html": [
       "<div>\n",
       "<style scoped>\n",
       "    .dataframe tbody tr th:only-of-type {\n",
       "        vertical-align: middle;\n",
       "    }\n",
       "\n",
       "    .dataframe tbody tr th {\n",
       "        vertical-align: top;\n",
       "    }\n",
       "\n",
       "    .dataframe thead th {\n",
       "        text-align: right;\n",
       "    }\n",
       "</style>\n",
       "<table border=\"1\" class=\"dataframe\">\n",
       "  <thead>\n",
       "    <tr style=\"text-align: right;\">\n",
       "      <th></th>\n",
       "      <th>project</th>\n",
       "      <th>article</th>\n",
       "      <th>granularity</th>\n",
       "      <th>timestamp</th>\n",
       "      <th>agent</th>\n",
       "      <th>views</th>\n",
       "    </tr>\n",
       "  </thead>\n",
       "  <tbody>\n",
       "    <tr>\n",
       "      <th>0</th>\n",
       "      <td>en.wikipedia</td>\n",
       "      <td>Aachenosaurus</td>\n",
       "      <td>monthly</td>\n",
       "      <td>2015070100</td>\n",
       "      <td>user</td>\n",
       "      <td>3114</td>\n",
       "    </tr>\n",
       "    <tr>\n",
       "      <th>1</th>\n",
       "      <td>en.wikipedia</td>\n",
       "      <td>Aachenosaurus</td>\n",
       "      <td>monthly</td>\n",
       "      <td>2015080100</td>\n",
       "      <td>user</td>\n",
       "      <td>13525</td>\n",
       "    </tr>\n",
       "    <tr>\n",
       "      <th>2</th>\n",
       "      <td>en.wikipedia</td>\n",
       "      <td>Aachenosaurus</td>\n",
       "      <td>monthly</td>\n",
       "      <td>2015090100</td>\n",
       "      <td>user</td>\n",
       "      <td>34518</td>\n",
       "    </tr>\n",
       "    <tr>\n",
       "      <th>3</th>\n",
       "      <td>en.wikipedia</td>\n",
       "      <td>Aachenosaurus</td>\n",
       "      <td>monthly</td>\n",
       "      <td>2015100100</td>\n",
       "      <td>user</td>\n",
       "      <td>6155</td>\n",
       "    </tr>\n",
       "    <tr>\n",
       "      <th>4</th>\n",
       "      <td>en.wikipedia</td>\n",
       "      <td>Aachenosaurus</td>\n",
       "      <td>monthly</td>\n",
       "      <td>2015110100</td>\n",
       "      <td>user</td>\n",
       "      <td>13813</td>\n",
       "    </tr>\n",
       "  </tbody>\n",
       "</table>\n",
       "</div>"
      ],
      "text/plain": [
       "        project        article granularity   timestamp agent  views\n",
       "0  en.wikipedia  Aachenosaurus     monthly  2015070100  user   3114\n",
       "1  en.wikipedia  Aachenosaurus     monthly  2015080100  user  13525\n",
       "2  en.wikipedia  Aachenosaurus     monthly  2015090100  user  34518\n",
       "3  en.wikipedia  Aachenosaurus     monthly  2015100100  user   6155\n",
       "4  en.wikipedia  Aachenosaurus     monthly  2015110100  user  13813"
      ]
     },
     "execution_count": 49,
     "metadata": {},
     "output_type": "execute_result"
    }
   ],
   "source": [
    "all_access_grp.head()"
   ]
  },
  {
   "cell_type": "markdown",
   "metadata": {},
   "source": [
    "### Store everything back in json\n"
   ]
  },
  {
   "cell_type": "code",
   "execution_count": 51,
   "metadata": {},
   "outputs": [],
   "source": [
    "def csv_to_json(df, jsonFilePath):\n",
    "    result = df.to_json(orient=\"records\")\n",
    "    parsed = json.loads(result)\n",
    "    with open(jsonFilePath, \"w\") as outfile:\n",
    "            json.dump(parsed, outfile)"
   ]
  },
  {
   "cell_type": "code",
   "execution_count": 52,
   "metadata": {},
   "outputs": [],
   "source": [
    "csv_to_json(mobile_grp,'dino_monthly_mobile_201507-202209.json')\n",
    "csv_to_json(desktop_grp,'dino_monthly_desktop_201507-202209.json')\n",
    "csv_to_json(all_access_grp,'dino_monthly_cumulative_201507-202209.json')\n"
   ]
  },
  {
   "cell_type": "markdown",
   "metadata": {},
   "source": [
    "## Step 2: Analysis"
   ]
  },
  {
   "cell_type": "markdown",
   "metadata": {},
   "source": [
    "### Instructions\n",
    "**Maximum Average and Minimum Average** - The first graph should contain time series for the articles that have the highest average page requests and the lowest average page requests for desktop access and mobile access. Your graph should have four lines (max desktop, min desktop, max mobile, min mobile).\n",
    "\n",
    "**Top 10 Peak Page Views** - The second graph should contain time series for the top 10 article pages by largest (peak) page views over the entire time by access type. You first find the month for each article that contains the highest (peak) page views, and then order the articles by these peak values. Your graph should contain the top 10 for desktop and top 10 for mobile access (20 lines).\n",
    "\n",
    "**Fewest Months of Data** - The third graph should show pages that have the fewest months of available data. These will all be relatively short time series, some may only have one month of data. Your graph should show the 10 articles with the fewest months of data for desktop access and the 10 articles with the fewest months of data for mobile access.\n"
   ]
  },
  {
   "cell_type": "code",
   "execution_count": 58,
   "metadata": {},
   "outputs": [],
   "source": [
    "#Maximum Average and Minimum Average for mobile\n",
    "mobile_grp_avg=mobile_grp.groupby(by=['article']).agg({'views':'mean'}).reset_index()\n",
    "mobile_grp_avg.columns=['article','avg_views']\n",
    "mobile_grp_avg=mobile_grp_avg.sort_values(by='avg_views')"
   ]
  },
  {
   "cell_type": "code",
   "execution_count": 62,
   "metadata": {},
   "outputs": [
    {
     "data": {
      "text/html": [
       "<div>\n",
       "<style scoped>\n",
       "    .dataframe tbody tr th:only-of-type {\n",
       "        vertical-align: middle;\n",
       "    }\n",
       "\n",
       "    .dataframe tbody tr th {\n",
       "        vertical-align: top;\n",
       "    }\n",
       "\n",
       "    .dataframe thead th {\n",
       "        text-align: right;\n",
       "    }\n",
       "</style>\n",
       "<table border=\"1\" class=\"dataframe\">\n",
       "  <thead>\n",
       "    <tr style=\"text-align: right;\">\n",
       "      <th></th>\n",
       "      <th>article</th>\n",
       "      <th>avg_views</th>\n",
       "    </tr>\n",
       "  </thead>\n",
       "  <tbody>\n",
       "    <tr>\n",
       "      <th>1188</th>\n",
       "      <td>Stegosaurus</td>\n",
       "      <td>21131.471264</td>\n",
       "    </tr>\n",
       "    <tr>\n",
       "      <th>1285</th>\n",
       "      <td>Triceratops</td>\n",
       "      <td>21230.701149</td>\n",
       "    </tr>\n",
       "    <tr>\n",
       "      <th>1179</th>\n",
       "      <td>Spinosaurus</td>\n",
       "      <td>28958.413793</td>\n",
       "    </tr>\n",
       "    <tr>\n",
       "      <th>1327</th>\n",
       "      <td>Velociraptor</td>\n",
       "      <td>42094.091954</td>\n",
       "    </tr>\n",
       "    <tr>\n",
       "      <th>1301</th>\n",
       "      <td>Tyrannosaurus</td>\n",
       "      <td>59537.701149</td>\n",
       "    </tr>\n",
       "  </tbody>\n",
       "</table>\n",
       "</div>"
      ],
      "text/plain": [
       "            article     avg_views\n",
       "1188    Stegosaurus  21131.471264\n",
       "1285    Triceratops  21230.701149\n",
       "1179    Spinosaurus  28958.413793\n",
       "1327   Velociraptor  42094.091954\n",
       "1301  Tyrannosaurus  59537.701149"
      ]
     },
     "execution_count": 62,
     "metadata": {},
     "output_type": "execute_result"
    }
   ],
   "source": [
    "mobile_grp_avg.tail()"
   ]
  },
  {
   "cell_type": "code",
   "execution_count": 63,
   "metadata": {},
   "outputs": [],
   "source": [
    "highest_article_mobile=mobile_grp_avg.iloc[-1,0]\n",
    "lowest_article_mobile=mobile_grp_avg.iloc[0,0]"
   ]
  },
  {
   "cell_type": "code",
   "execution_count": 64,
   "metadata": {},
   "outputs": [],
   "source": [
    "#Maximum Average and Minimum Average for desktop\n",
    "desktop_grp_avg=desktop_grp.groupby(by=['article']).agg({'views':'mean'}).reset_index()\n",
    "desktop_grp_avg.columns=['article','avg_views']\n",
    "desktop_grp_avg=desktop_grp_avg.sort_values(by='avg_views')"
   ]
  },
  {
   "cell_type": "code",
   "execution_count": 66,
   "metadata": {},
   "outputs": [
    {
     "data": {
      "text/html": [
       "<div>\n",
       "<style scoped>\n",
       "    .dataframe tbody tr th:only-of-type {\n",
       "        vertical-align: middle;\n",
       "    }\n",
       "\n",
       "    .dataframe tbody tr th {\n",
       "        vertical-align: top;\n",
       "    }\n",
       "\n",
       "    .dataframe thead th {\n",
       "        text-align: right;\n",
       "    }\n",
       "</style>\n",
       "<table border=\"1\" class=\"dataframe\">\n",
       "  <thead>\n",
       "    <tr style=\"text-align: right;\">\n",
       "      <th></th>\n",
       "      <th>article</th>\n",
       "      <th>avg_views</th>\n",
       "    </tr>\n",
       "  </thead>\n",
       "  <tbody>\n",
       "    <tr>\n",
       "      <th>561</th>\n",
       "      <td>Honghesaurus</td>\n",
       "      <td>16.965517</td>\n",
       "    </tr>\n",
       "    <tr>\n",
       "      <th>899</th>\n",
       "      <td>Ornithomerus</td>\n",
       "      <td>20.793103</td>\n",
       "    </tr>\n",
       "    <tr>\n",
       "      <th>888</th>\n",
       "      <td>Oligosaurus</td>\n",
       "      <td>22.517241</td>\n",
       "    </tr>\n",
       "    <tr>\n",
       "      <th>1043</th>\n",
       "      <td>Rachitrema</td>\n",
       "      <td>22.540230</td>\n",
       "    </tr>\n",
       "    <tr>\n",
       "      <th>975</th>\n",
       "      <td>Picrodon</td>\n",
       "      <td>24.275862</td>\n",
       "    </tr>\n",
       "  </tbody>\n",
       "</table>\n",
       "</div>"
      ],
      "text/plain": [
       "           article  avg_views\n",
       "561   Honghesaurus  16.965517\n",
       "899   Ornithomerus  20.793103\n",
       "888    Oligosaurus  22.517241\n",
       "1043    Rachitrema  22.540230\n",
       "975       Picrodon  24.275862"
      ]
     },
     "execution_count": 66,
     "metadata": {},
     "output_type": "execute_result"
    }
   ],
   "source": [
    "desktop_grp_avg.head()"
   ]
  },
  {
   "cell_type": "code",
   "execution_count": 65,
   "metadata": {},
   "outputs": [],
   "source": [
    "highest_article_desktop=desktop_grp_avg.iloc[-1,0]\n",
    "lowest_article_desktop=desktop_grp_avg.iloc[0,0]"
   ]
  },
  {
   "cell_type": "code",
   "execution_count": 68,
   "metadata": {},
   "outputs": [],
   "source": [
    "#PLot charts\n",
    "import matplotlib.pyplot as plt"
   ]
  },
  {
   "cell_type": "code",
   "execution_count": 77,
   "metadata": {},
   "outputs": [
    {
     "data": {
      "image/png": "[encoded data removed]",
      "text/plain": [
       "<Figure size 640x480 with 1 Axes>"
      ]
     },
     "metadata": {},
     "output_type": "display_data"
    }
   ],
   "source": [
    "# plot lines\n",
    "plt.plot(desktop_grp[desktop_grp['article']==highest_article_desktop].timestamp,\\\n",
    "         desktop_grp[desktop_grp['article']==highest_article_desktop].views, label = \"max desktop\")\n",
    "plt.plot(desktop_grp[desktop_grp['article']==lowest_article_desktop].timestamp,\\\n",
    "         desktop_grp[desktop_grp['article']==lowest_article_desktop].views, label = \"min desktop\")\n",
    "plt.plot(mobile_grp[mobile_grp['article']==highest_article_mobile].timestamp,\\\n",
    "         mobile_grp[mobile_grp['article']==highest_article_mobile].views, label = \"max mobile\")\n",
    "plt.plot(mobile_grp[mobile_grp['article']==lowest_article_mobile].timestamp,\\\n",
    "         mobile_grp[mobile_grp['article']==lowest_article_mobile].views, label = \"min mobile\")\n",
    "\n",
    "plt.legend()\n",
    "plt.show()"
   ]
  },
  {
   "cell_type": "code",
   "execution_count": 85,
   "metadata": {},
   "outputs": [
    {
     "data": {
      "text/html": [
       "<div>\n",
       "<style scoped>\n",
       "    .dataframe tbody tr th:only-of-type {\n",
       "        vertical-align: middle;\n",
       "    }\n",
       "\n",
       "    .dataframe tbody tr th {\n",
       "        vertical-align: top;\n",
       "    }\n",
       "\n",
       "    .dataframe thead th {\n",
       "        text-align: right;\n",
       "    }\n",
       "</style>\n",
       "<table border=\"1\" class=\"dataframe\">\n",
       "  <thead>\n",
       "    <tr style=\"text-align: right;\">\n",
       "      <th></th>\n",
       "      <th>project</th>\n",
       "      <th>article</th>\n",
       "      <th>granularity</th>\n",
       "      <th>timestamp</th>\n",
       "      <th>agent</th>\n",
       "      <th>views</th>\n",
       "    </tr>\n",
       "  </thead>\n",
       "  <tbody>\n",
       "    <tr>\n",
       "      <th>855</th>\n",
       "      <td>en.wikipedia</td>\n",
       "      <td>Achelousaurus</td>\n",
       "      <td>monthly</td>\n",
       "      <td>2021020100</td>\n",
       "      <td>user</td>\n",
       "      <td>205150</td>\n",
       "    </tr>\n",
       "    <tr>\n",
       "      <th>105162</th>\n",
       "      <td>en.wikipedia</td>\n",
       "      <td>Velociraptor</td>\n",
       "      <td>monthly</td>\n",
       "      <td>2015070100</td>\n",
       "      <td>user</td>\n",
       "      <td>135741</td>\n",
       "    </tr>\n",
       "    <tr>\n",
       "      <th>103272</th>\n",
       "      <td>en.wikipedia</td>\n",
       "      <td>Tyrannosaurus</td>\n",
       "      <td>monthly</td>\n",
       "      <td>2015070100</td>\n",
       "      <td>user</td>\n",
       "      <td>107257</td>\n",
       "    </tr>\n",
       "    <tr>\n",
       "      <th>43310</th>\n",
       "      <td>en.wikipedia</td>\n",
       "      <td>Halszkaraptor</td>\n",
       "      <td>monthly</td>\n",
       "      <td>2017120100</td>\n",
       "      <td>user</td>\n",
       "      <td>103251</td>\n",
       "    </tr>\n",
       "    <tr>\n",
       "      <th>40057</th>\n",
       "      <td>en.wikipedia</td>\n",
       "      <td>Giganotosaurus</td>\n",
       "      <td>monthly</td>\n",
       "      <td>2022060100</td>\n",
       "      <td>user</td>\n",
       "      <td>62340</td>\n",
       "    </tr>\n",
       "    <tr>\n",
       "      <th>93439</th>\n",
       "      <td>en.wikipedia</td>\n",
       "      <td>Spinosaurus</td>\n",
       "      <td>monthly</td>\n",
       "      <td>2015070100</td>\n",
       "      <td>user</td>\n",
       "      <td>61029</td>\n",
       "    </tr>\n",
       "    <tr>\n",
       "      <th>60236</th>\n",
       "      <td>en.wikipedia</td>\n",
       "      <td>Lythronax</td>\n",
       "      <td>monthly</td>\n",
       "      <td>2020060100</td>\n",
       "      <td>user</td>\n",
       "      <td>57701</td>\n",
       "    </tr>\n",
       "    <tr>\n",
       "      <th>68436</th>\n",
       "      <td>en.wikipedia</td>\n",
       "      <td>Nigersaurus</td>\n",
       "      <td>monthly</td>\n",
       "      <td>2020020100</td>\n",
       "      <td>user</td>\n",
       "      <td>57192</td>\n",
       "    </tr>\n",
       "    <tr>\n",
       "      <th>17187</th>\n",
       "      <td>en.wikipedia</td>\n",
       "      <td>Borealopelta</td>\n",
       "      <td>monthly</td>\n",
       "      <td>2019090100</td>\n",
       "      <td>user</td>\n",
       "      <td>53831</td>\n",
       "    </tr>\n",
       "    <tr>\n",
       "      <th>29668</th>\n",
       "      <td>en.wikipedia</td>\n",
       "      <td>Dilophosaurus</td>\n",
       "      <td>monthly</td>\n",
       "      <td>2018060100</td>\n",
       "      <td>user</td>\n",
       "      <td>53278</td>\n",
       "    </tr>\n",
       "  </tbody>\n",
       "</table>\n",
       "</div>"
      ],
      "text/plain": [
       "             project         article granularity   timestamp agent   views\n",
       "855     en.wikipedia   Achelousaurus     monthly  2021020100  user  205150\n",
       "105162  en.wikipedia    Velociraptor     monthly  2015070100  user  135741\n",
       "103272  en.wikipedia   Tyrannosaurus     monthly  2015070100  user  107257\n",
       "43310   en.wikipedia   Halszkaraptor     monthly  2017120100  user  103251\n",
       "40057   en.wikipedia  Giganotosaurus     monthly  2022060100  user   62340\n",
       "93439   en.wikipedia     Spinosaurus     monthly  2015070100  user   61029\n",
       "60236   en.wikipedia       Lythronax     monthly  2020060100  user   57701\n",
       "68436   en.wikipedia     Nigersaurus     monthly  2020020100  user   57192\n",
       "17187   en.wikipedia    Borealopelta     monthly  2019090100  user   53831\n",
       "29668   en.wikipedia   Dilophosaurus     monthly  2018060100  user   53278"
      ]
     },
     "execution_count": 85,
     "metadata": {},
     "output_type": "execute_result"
    }
   ],
   "source": [
    "#top 10 articles for dekstop\n",
    "m = desktop_grp.groupby('article')['views'].transform('max') == desktop_grp['views']\n",
    "top_10_desktop=desktop_grp[m].sort_values(by='views',ascending=False).iloc[:10,:]\n",
    "top_10_desktop"
   ]
  },
  {
   "cell_type": "code",
   "execution_count": 86,
   "metadata": {},
   "outputs": [
    {
     "data": {
      "text/html": [
       "<div>\n",
       "<style scoped>\n",
       "    .dataframe tbody tr th:only-of-type {\n",
       "        vertical-align: middle;\n",
       "    }\n",
       "\n",
       "    .dataframe tbody tr th {\n",
       "        vertical-align: top;\n",
       "    }\n",
       "\n",
       "    .dataframe thead th {\n",
       "        text-align: right;\n",
       "    }\n",
       "</style>\n",
       "<table border=\"1\" class=\"dataframe\">\n",
       "  <thead>\n",
       "    <tr style=\"text-align: right;\">\n",
       "      <th></th>\n",
       "      <th>project</th>\n",
       "      <th>article</th>\n",
       "      <th>granularity</th>\n",
       "      <th>timestamp</th>\n",
       "      <th>agent</th>\n",
       "      <th>views</th>\n",
       "    </tr>\n",
       "  </thead>\n",
       "  <tbody>\n",
       "    <tr>\n",
       "      <th>68436</th>\n",
       "      <td>en.wikipedia</td>\n",
       "      <td>Nigersaurus</td>\n",
       "      <td>monthly</td>\n",
       "      <td>2020020100</td>\n",
       "      <td>user</td>\n",
       "      <td>235977</td>\n",
       "    </tr>\n",
       "    <tr>\n",
       "      <th>28485</th>\n",
       "      <td>en.wikipedia</td>\n",
       "      <td>Deinocheirus</td>\n",
       "      <td>monthly</td>\n",
       "      <td>2021050100</td>\n",
       "      <td>user</td>\n",
       "      <td>234704</td>\n",
       "    </tr>\n",
       "    <tr>\n",
       "      <th>40057</th>\n",
       "      <td>en.wikipedia</td>\n",
       "      <td>Giganotosaurus</td>\n",
       "      <td>monthly</td>\n",
       "      <td>2022060100</td>\n",
       "      <td>user</td>\n",
       "      <td>165007</td>\n",
       "    </tr>\n",
       "    <tr>\n",
       "      <th>99962</th>\n",
       "      <td>en.wikipedia</td>\n",
       "      <td>Therizinosaurus</td>\n",
       "      <td>monthly</td>\n",
       "      <td>2022060100</td>\n",
       "      <td>user</td>\n",
       "      <td>155431</td>\n",
       "    </tr>\n",
       "    <tr>\n",
       "      <th>105162</th>\n",
       "      <td>en.wikipedia</td>\n",
       "      <td>Velociraptor</td>\n",
       "      <td>monthly</td>\n",
       "      <td>2015070100</td>\n",
       "      <td>user</td>\n",
       "      <td>142284</td>\n",
       "    </tr>\n",
       "    <tr>\n",
       "      <th>769</th>\n",
       "      <td>en.wikipedia</td>\n",
       "      <td>Achelousaurus</td>\n",
       "      <td>monthly</td>\n",
       "      <td>2021030100</td>\n",
       "      <td>user</td>\n",
       "      <td>140592</td>\n",
       "    </tr>\n",
       "    <tr>\n",
       "      <th>103307</th>\n",
       "      <td>en.wikipedia</td>\n",
       "      <td>Tyrannosaurus</td>\n",
       "      <td>monthly</td>\n",
       "      <td>2018060100</td>\n",
       "      <td>user</td>\n",
       "      <td>139326</td>\n",
       "    </tr>\n",
       "    <tr>\n",
       "      <th>17100</th>\n",
       "      <td>en.wikipedia</td>\n",
       "      <td>Borealopelta</td>\n",
       "      <td>monthly</td>\n",
       "      <td>2019090100</td>\n",
       "      <td>user</td>\n",
       "      <td>117282</td>\n",
       "    </tr>\n",
       "    <tr>\n",
       "      <th>29716</th>\n",
       "      <td>en.wikipedia</td>\n",
       "      <td>Dilophosaurus</td>\n",
       "      <td>monthly</td>\n",
       "      <td>2022060100</td>\n",
       "      <td>user</td>\n",
       "      <td>78537</td>\n",
       "    </tr>\n",
       "    <tr>\n",
       "      <th>9909</th>\n",
       "      <td>en.wikipedia</td>\n",
       "      <td>Argentinosaurus</td>\n",
       "      <td>monthly</td>\n",
       "      <td>2016120100</td>\n",
       "      <td>user</td>\n",
       "      <td>78437</td>\n",
       "    </tr>\n",
       "  </tbody>\n",
       "</table>\n",
       "</div>"
      ],
      "text/plain": [
       "             project          article granularity   timestamp agent   views\n",
       "68436   en.wikipedia      Nigersaurus     monthly  2020020100  user  235977\n",
       "28485   en.wikipedia     Deinocheirus     monthly  2021050100  user  234704\n",
       "40057   en.wikipedia   Giganotosaurus     monthly  2022060100  user  165007\n",
       "99962   en.wikipedia  Therizinosaurus     monthly  2022060100  user  155431\n",
       "105162  en.wikipedia     Velociraptor     monthly  2015070100  user  142284\n",
       "769     en.wikipedia    Achelousaurus     monthly  2021030100  user  140592\n",
       "103307  en.wikipedia    Tyrannosaurus     monthly  2018060100  user  139326\n",
       "17100   en.wikipedia     Borealopelta     monthly  2019090100  user  117282\n",
       "29716   en.wikipedia    Dilophosaurus     monthly  2022060100  user   78537\n",
       "9909    en.wikipedia  Argentinosaurus     monthly  2016120100  user   78437"
      ]
     },
     "execution_count": 86,
     "metadata": {},
     "output_type": "execute_result"
    }
   ],
   "source": [
    "#top 10 articles for mobile\n",
    "m = mobile_grp.groupby('article')['views'].transform('max') == mobile_grp['views']\n",
    "top_10_mobile=mobile_grp[m].sort_values(by='views',ascending=False).iloc[:10,:]\n",
    "top_10_mobile"
   ]
  },
  {
   "cell_type": "code",
   "execution_count": 88,
   "metadata": {},
   "outputs": [
    {
     "name": "stdout",
     "output_type": "stream",
     "text": [
      "Collecting seaborn\n",
      "  Downloading seaborn-0.12.0-py3-none-any.whl (285 kB)\n",
      "     -------------------------------------- 285.1/285.1 kB 1.9 MB/s eta 0:00:00\n",
      "Requirement already satisfied: numpy>=1.17 in c:\\users\\khirod\\appdata\\roaming\\python\\python310\\site-packages (from seaborn) (1.21.6)\n",
      "Requirement already satisfied: matplotlib>=3.1 in c:\\users\\khirod\\appdata\\roaming\\python\\python310\\site-packages (from seaborn) (3.6.0)\n",
      "Requirement already satisfied: pandas>=0.25 in c:\\users\\khirod\\miniconda3\\envs\\oceandatalab\\lib\\site-packages (from seaborn) (1.5.0)\n",
      "Requirement already satisfied: contourpy>=1.0.1 in c:\\users\\khirod\\appdata\\roaming\\python\\python310\\site-packages (from matplotlib>=3.1->seaborn) (1.0.5)\n",
      "Requirement already satisfied: fonttools>=4.22.0 in c:\\users\\khirod\\appdata\\roaming\\python\\python310\\site-packages (from matplotlib>=3.1->seaborn) (4.37.4)\n",
      "Requirement already satisfied: python-dateutil>=2.7 in c:\\users\\khirod\\miniconda3\\envs\\oceandatalab\\lib\\site-packages (from matplotlib>=3.1->seaborn) (2.8.2)\n",
      "Requirement already satisfied: pyparsing>=2.2.1 in c:\\users\\khirod\\miniconda3\\envs\\oceandatalab\\lib\\site-packages (from matplotlib>=3.1->seaborn) (3.0.9)\n",
      "Requirement already satisfied: pillow>=6.2.0 in c:\\users\\khirod\\miniconda3\\envs\\oceandatalab\\lib\\site-packages (from matplotlib>=3.1->seaborn) (9.2.0)\n",
      "Requirement already satisfied: cycler>=0.10 in c:\\users\\khirod\\appdata\\roaming\\python\\python310\\site-packages (from matplotlib>=3.1->seaborn) (0.11.0)\n",
      "Requirement already satisfied: packaging>=20.0 in c:\\users\\khirod\\miniconda3\\envs\\oceandatalab\\lib\\site-packages (from matplotlib>=3.1->seaborn) (21.3)\n",
      "Requirement already satisfied: kiwisolver>=1.0.1 in c:\\users\\khirod\\miniconda3\\envs\\oceandatalab\\lib\\site-packages (from matplotlib>=3.1->seaborn) (1.4.4)\n",
      "Requirement already satisfied: pytz>=2020.1 in c:\\users\\khirod\\miniconda3\\envs\\oceandatalab\\lib\\site-packages (from pandas>=0.25->seaborn) (2022.4)\n",
      "Requirement already satisfied: six>=1.5 in c:\\users\\khirod\\miniconda3\\envs\\oceandatalab\\lib\\site-packages (from python-dateutil>=2.7->matplotlib>=3.1->seaborn) (1.16.0)\n",
      "Installing collected packages: seaborn\n",
      "Successfully installed seaborn-0.12.0\n"
     ]
    }
   ],
   "source": [
    "!pip install seaborn\n"
   ]
  },
  {
   "cell_type": "code",
   "execution_count": 90,
   "metadata": {},
   "outputs": [],
   "source": [
    "import seaborn as sns"
   ]
  },
  {
   "cell_type": "code",
   "execution_count": 107,
   "metadata": {},
   "outputs": [
    {
     "data": {
      "text/plain": [
       "<AxesSubplot: xlabel='timestamp', ylabel='views'>"
      ]
     },
     "execution_count": 107,
     "metadata": {},
     "output_type": "execute_result"
    },
    {
     "data": {
      "image/png": "[encoded data removed]",
      "text/plain": [
       "<Figure size 640x480 with 1 Axes>"
      ]
     },
     "metadata": {},
     "output_type": "display_data"
    }
   ],
   "source": [
    "df_top10_mobile=mobile_grp[mobile_grp['article'].isin(list(top_10_mobile.article))]\n",
    "sns.lineplot(x='timestamp', y='views', errorbar=None,hue='article', data=df_top10_mobile)"
   ]
  },
  {
   "cell_type": "code",
   "execution_count": 110,
   "metadata": {},
   "outputs": [
    {
     "data": {
      "text/plain": [
       "<AxesSubplot: xlabel='timestamp', ylabel='views'>"
      ]
     },
     "execution_count": 110,
     "metadata": {},
     "output_type": "execute_result"
    },
    {
     "data": {
      "image/png": "[encoded data removed]",
      "text/plain": [
       "<Figure size 640x480 with 1 Axes>"
      ]
     },
     "metadata": {},
     "output_type": "display_data"
    }
   ],
   "source": [
    "df_top10_desktop=desktop_grp[desktop_grp['article'].isin(list(top_10_desktop.article))]\n",
    "sns.lineplot(x='timestamp', y='views', errorbar=None,hue='article', data=df_top10_desktop)"
   ]
  },
  {
   "cell_type": "code",
   "execution_count": 109,
   "metadata": {},
   "outputs": [
    {
     "data": {
      "text/html": [
       "<div>\n",
       "<style scoped>\n",
       "    .dataframe tbody tr th:only-of-type {\n",
       "        vertical-align: middle;\n",
       "    }\n",
       "\n",
       "    .dataframe tbody tr th {\n",
       "        vertical-align: top;\n",
       "    }\n",
       "\n",
       "    .dataframe thead th {\n",
       "        text-align: right;\n",
       "    }\n",
       "</style>\n",
       "<table border=\"1\" class=\"dataframe\">\n",
       "  <thead>\n",
       "    <tr style=\"text-align: right;\">\n",
       "      <th></th>\n",
       "      <th>project</th>\n",
       "      <th>article</th>\n",
       "      <th>granularity</th>\n",
       "      <th>timestamp</th>\n",
       "      <th>agent</th>\n",
       "      <th>views</th>\n",
       "    </tr>\n",
       "  </thead>\n",
       "  <tbody>\n",
       "    <tr>\n",
       "      <th>788</th>\n",
       "      <td>en.wikipedia</td>\n",
       "      <td>Achelousaurus</td>\n",
       "      <td>monthly</td>\n",
       "      <td>2015070100</td>\n",
       "      <td>user</td>\n",
       "      <td>1181</td>\n",
       "    </tr>\n",
       "    <tr>\n",
       "      <th>789</th>\n",
       "      <td>en.wikipedia</td>\n",
       "      <td>Achelousaurus</td>\n",
       "      <td>monthly</td>\n",
       "      <td>2015080100</td>\n",
       "      <td>user</td>\n",
       "      <td>703</td>\n",
       "    </tr>\n",
       "    <tr>\n",
       "      <th>790</th>\n",
       "      <td>en.wikipedia</td>\n",
       "      <td>Achelousaurus</td>\n",
       "      <td>monthly</td>\n",
       "      <td>2015090100</td>\n",
       "      <td>user</td>\n",
       "      <td>699</td>\n",
       "    </tr>\n",
       "    <tr>\n",
       "      <th>791</th>\n",
       "      <td>en.wikipedia</td>\n",
       "      <td>Achelousaurus</td>\n",
       "      <td>monthly</td>\n",
       "      <td>2015100100</td>\n",
       "      <td>user</td>\n",
       "      <td>708</td>\n",
       "    </tr>\n",
       "    <tr>\n",
       "      <th>792</th>\n",
       "      <td>en.wikipedia</td>\n",
       "      <td>Achelousaurus</td>\n",
       "      <td>monthly</td>\n",
       "      <td>2015110100</td>\n",
       "      <td>user</td>\n",
       "      <td>691</td>\n",
       "    </tr>\n",
       "    <tr>\n",
       "      <th>...</th>\n",
       "      <td>...</td>\n",
       "      <td>...</td>\n",
       "      <td>...</td>\n",
       "      <td>...</td>\n",
       "      <td>...</td>\n",
       "      <td>...</td>\n",
       "    </tr>\n",
       "    <tr>\n",
       "      <th>105244</th>\n",
       "      <td>en.wikipedia</td>\n",
       "      <td>Velociraptor</td>\n",
       "      <td>monthly</td>\n",
       "      <td>2022050100</td>\n",
       "      <td>user</td>\n",
       "      <td>25219</td>\n",
       "    </tr>\n",
       "    <tr>\n",
       "      <th>105245</th>\n",
       "      <td>en.wikipedia</td>\n",
       "      <td>Velociraptor</td>\n",
       "      <td>monthly</td>\n",
       "      <td>2022060100</td>\n",
       "      <td>user</td>\n",
       "      <td>31520</td>\n",
       "    </tr>\n",
       "    <tr>\n",
       "      <th>105246</th>\n",
       "      <td>en.wikipedia</td>\n",
       "      <td>Velociraptor</td>\n",
       "      <td>monthly</td>\n",
       "      <td>2022070100</td>\n",
       "      <td>user</td>\n",
       "      <td>20092</td>\n",
       "    </tr>\n",
       "    <tr>\n",
       "      <th>105247</th>\n",
       "      <td>en.wikipedia</td>\n",
       "      <td>Velociraptor</td>\n",
       "      <td>monthly</td>\n",
       "      <td>2022080100</td>\n",
       "      <td>user</td>\n",
       "      <td>16691</td>\n",
       "    </tr>\n",
       "    <tr>\n",
       "      <th>105248</th>\n",
       "      <td>en.wikipedia</td>\n",
       "      <td>Velociraptor</td>\n",
       "      <td>monthly</td>\n",
       "      <td>2022090100</td>\n",
       "      <td>user</td>\n",
       "      <td>14602</td>\n",
       "    </tr>\n",
       "  </tbody>\n",
       "</table>\n",
       "<p>816 rows × 6 columns</p>\n",
       "</div>"
      ],
      "text/plain": [
       "             project        article granularity   timestamp agent  views\n",
       "788     en.wikipedia  Achelousaurus     monthly  2015070100  user   1181\n",
       "789     en.wikipedia  Achelousaurus     monthly  2015080100  user    703\n",
       "790     en.wikipedia  Achelousaurus     monthly  2015090100  user    699\n",
       "791     en.wikipedia  Achelousaurus     monthly  2015100100  user    708\n",
       "792     en.wikipedia  Achelousaurus     monthly  2015110100  user    691\n",
       "...              ...            ...         ...         ...   ...    ...\n",
       "105244  en.wikipedia   Velociraptor     monthly  2022050100  user  25219\n",
       "105245  en.wikipedia   Velociraptor     monthly  2022060100  user  31520\n",
       "105246  en.wikipedia   Velociraptor     monthly  2022070100  user  20092\n",
       "105247  en.wikipedia   Velociraptor     monthly  2022080100  user  16691\n",
       "105248  en.wikipedia   Velociraptor     monthly  2022090100  user  14602\n",
       "\n",
       "[816 rows x 6 columns]"
      ]
     },
     "execution_count": 109,
     "metadata": {},
     "output_type": "execute_result"
    }
   ],
   "source": [
    "df_top10_desktop"
   ]
  },
  {
   "cell_type": "code",
   "execution_count": 113,
   "metadata": {},
   "outputs": [],
   "source": [
    "#Fewest months of data\n",
    "mobile_grp_count_months=mobile_grp.groupby(by=['article']).agg({'timestamp':'nunique'}).reset_index()\n",
    "mobile_grp_count_months.columns=['article','months_count']\n",
    "mobile_grp_count_months=mobile_grp_count_months.sort_values(by='months_count').iloc[:10]"
   ]
  },
  {
   "cell_type": "code",
   "execution_count": 114,
   "metadata": {},
   "outputs": [
    {
     "data": {
      "text/html": [
       "<div>\n",
       "<style scoped>\n",
       "    .dataframe tbody tr th:only-of-type {\n",
       "        vertical-align: middle;\n",
       "    }\n",
       "\n",
       "    .dataframe tbody tr th {\n",
       "        vertical-align: top;\n",
       "    }\n",
       "\n",
       "    .dataframe thead th {\n",
       "        text-align: right;\n",
       "    }\n",
       "</style>\n",
       "<table border=\"1\" class=\"dataframe\">\n",
       "  <thead>\n",
       "    <tr style=\"text-align: right;\">\n",
       "      <th></th>\n",
       "      <th>article</th>\n",
       "      <th>months_count</th>\n",
       "    </tr>\n",
       "  </thead>\n",
       "  <tbody>\n",
       "    <tr>\n",
       "      <th>414</th>\n",
       "      <td>Elemgasem</td>\n",
       "      <td>1</td>\n",
       "    </tr>\n",
       "    <tr>\n",
       "      <th>1295</th>\n",
       "      <td>Tuebingosaurus</td>\n",
       "      <td>1</td>\n",
       "    </tr>\n",
       "    <tr>\n",
       "      <th>617</th>\n",
       "      <td>Jakapil</td>\n",
       "      <td>2</td>\n",
       "    </tr>\n",
       "    <tr>\n",
       "      <th>791</th>\n",
       "      <td>Mbiresaurus</td>\n",
       "      <td>2</td>\n",
       "    </tr>\n",
       "    <tr>\n",
       "      <th>966</th>\n",
       "      <td>Perijasaurus</td>\n",
       "      <td>2</td>\n",
       "    </tr>\n",
       "    <tr>\n",
       "      <th>208</th>\n",
       "      <td>Bisticeratops</td>\n",
       "      <td>2</td>\n",
       "    </tr>\n",
       "    <tr>\n",
       "      <th>615</th>\n",
       "      <td>Iyuku</td>\n",
       "      <td>3</td>\n",
       "    </tr>\n",
       "    <tr>\n",
       "      <th>938</th>\n",
       "      <td>Paralitherizinosaurus</td>\n",
       "      <td>5</td>\n",
       "    </tr>\n",
       "    <tr>\n",
       "      <th>189</th>\n",
       "      <td>Bashanosaurus</td>\n",
       "      <td>7</td>\n",
       "    </tr>\n",
       "    <tr>\n",
       "      <th>403</th>\n",
       "      <td>Dzharaonyx</td>\n",
       "      <td>7</td>\n",
       "    </tr>\n",
       "  </tbody>\n",
       "</table>\n",
       "</div>"
      ],
      "text/plain": [
       "                    article  months_count\n",
       "414               Elemgasem             1\n",
       "1295         Tuebingosaurus             1\n",
       "617                 Jakapil             2\n",
       "791             Mbiresaurus             2\n",
       "966            Perijasaurus             2\n",
       "208           Bisticeratops             2\n",
       "615                   Iyuku             3\n",
       "938   Paralitherizinosaurus             5\n",
       "189           Bashanosaurus             7\n",
       "403              Dzharaonyx             7"
      ]
     },
     "execution_count": 114,
     "metadata": {},
     "output_type": "execute_result"
    }
   ],
   "source": [
    "mobile_grp_count_months"
   ]
  },
  {
   "cell_type": "code",
   "execution_count": 115,
   "metadata": {},
   "outputs": [],
   "source": [
    "#Fewest months of data\n",
    "desktop_grp_count_months=desktop_grp.groupby(by=['article']).agg({'timestamp':'nunique'}).reset_index()\n",
    "desktop_grp_count_months.columns=['article','months_count']\n",
    "desktop_grp_count_months=desktop_grp_count_months.sort_values(by='months_count').iloc[:10]"
   ]
  },
  {
   "cell_type": "code",
   "execution_count": 116,
   "metadata": {},
   "outputs": [
    {
     "data": {
      "text/html": [
       "<div>\n",
       "<style scoped>\n",
       "    .dataframe tbody tr th:only-of-type {\n",
       "        vertical-align: middle;\n",
       "    }\n",
       "\n",
       "    .dataframe tbody tr th {\n",
       "        vertical-align: top;\n",
       "    }\n",
       "\n",
       "    .dataframe thead th {\n",
       "        text-align: right;\n",
       "    }\n",
       "</style>\n",
       "<table border=\"1\" class=\"dataframe\">\n",
       "  <thead>\n",
       "    <tr style=\"text-align: right;\">\n",
       "      <th></th>\n",
       "      <th>article</th>\n",
       "      <th>months_count</th>\n",
       "    </tr>\n",
       "  </thead>\n",
       "  <tbody>\n",
       "    <tr>\n",
       "      <th>414</th>\n",
       "      <td>Elemgasem</td>\n",
       "      <td>1</td>\n",
       "    </tr>\n",
       "    <tr>\n",
       "      <th>1295</th>\n",
       "      <td>Tuebingosaurus</td>\n",
       "      <td>1</td>\n",
       "    </tr>\n",
       "    <tr>\n",
       "      <th>617</th>\n",
       "      <td>Jakapil</td>\n",
       "      <td>2</td>\n",
       "    </tr>\n",
       "    <tr>\n",
       "      <th>791</th>\n",
       "      <td>Mbiresaurus</td>\n",
       "      <td>2</td>\n",
       "    </tr>\n",
       "    <tr>\n",
       "      <th>966</th>\n",
       "      <td>Perijasaurus</td>\n",
       "      <td>2</td>\n",
       "    </tr>\n",
       "    <tr>\n",
       "      <th>208</th>\n",
       "      <td>Bisticeratops</td>\n",
       "      <td>2</td>\n",
       "    </tr>\n",
       "    <tr>\n",
       "      <th>615</th>\n",
       "      <td>Iyuku</td>\n",
       "      <td>3</td>\n",
       "    </tr>\n",
       "    <tr>\n",
       "      <th>938</th>\n",
       "      <td>Paralitherizinosaurus</td>\n",
       "      <td>5</td>\n",
       "    </tr>\n",
       "    <tr>\n",
       "      <th>189</th>\n",
       "      <td>Bashanosaurus</td>\n",
       "      <td>7</td>\n",
       "    </tr>\n",
       "    <tr>\n",
       "      <th>403</th>\n",
       "      <td>Dzharaonyx</td>\n",
       "      <td>7</td>\n",
       "    </tr>\n",
       "  </tbody>\n",
       "</table>\n",
       "</div>"
      ],
      "text/plain": [
       "                    article  months_count\n",
       "414               Elemgasem             1\n",
       "1295         Tuebingosaurus             1\n",
       "617                 Jakapil             2\n",
       "791             Mbiresaurus             2\n",
       "966            Perijasaurus             2\n",
       "208           Bisticeratops             2\n",
       "615                   Iyuku             3\n",
       "938   Paralitherizinosaurus             5\n",
       "189           Bashanosaurus             7\n",
       "403              Dzharaonyx             7"
      ]
     },
     "execution_count": 116,
     "metadata": {},
     "output_type": "execute_result"
    }
   ],
   "source": [
    "desktop_grp_count_months"
   ]
  },
  {
   "cell_type": "code",
   "execution_count": 117,
   "metadata": {},
   "outputs": [
    {
     "data": {
      "text/plain": [
       "<AxesSubplot: xlabel='timestamp', ylabel='views'>"
      ]
     },
     "execution_count": 117,
     "metadata": {},
     "output_type": "execute_result"
    },
    {
     "data": {
      "image/png": "[encoded data removed]",
      "text/plain": [
       "<Figure size 640x480 with 1 Axes>"
      ]
     },
     "metadata": {},
     "output_type": "display_data"
    }
   ],
   "source": [
    "df_min_mths_desktop=desktop_grp[desktop_grp['article'].isin(list(desktop_grp_count_months.article))]\n",
    "sns.lineplot(x='timestamp', y='views', errorbar=None,hue='article', data=df_min_mths_desktop)"
   ]
  },
  {
   "cell_type": "code",
   "execution_count": 118,
   "metadata": {},
   "outputs": [
    {
     "data": {
      "text/plain": [
       "<AxesSubplot: xlabel='timestamp', ylabel='views'>"
      ]
     },
     "execution_count": 118,
     "metadata": {},
     "output_type": "execute_result"
    },
    {
     "data": {
      "image/png": "[encoded data removed]",
      "text/plain": [
       "<Figure size 640x480 with 1 Axes>"
      ]
     },
     "metadata": {},
     "output_type": "display_data"
    }
   ],
   "source": [
    "df_min_mths_mobile=mobile_grp[mobile_grp['article'].isin(list(mobile_grp_count_months.article))]\n",
    "sns.lineplot(x='timestamp', y='views', errorbar=None,hue='article', data=df_min_mths_mobile)"
   ]
  },
  {
   "cell_type": "code",
   "execution_count": null,
   "metadata": {},
   "outputs": [],
   "source": []
  }
 ],
 "metadata": {
  "kernelspec": {
   "display_name": "Python 3 (ipykernel)",
   "language": "python",
   "name": "python3"
  },
  "language_info": {
   "codemirror_mode": {
    "name": "ipython",
    "version": 3
   },
   "file_extension": ".py",
   "mimetype": "text/x-python",
   "name": "python",
   "nbconvert_exporter": "python",
   "pygments_lexer": "ipython3",
   "version": "3.10.6"
  }
 },
 "nbformat": 4,
 "nbformat_minor": 4
}
